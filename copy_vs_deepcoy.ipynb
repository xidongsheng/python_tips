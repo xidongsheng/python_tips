{
 "cells": [
  {
   "cell_type": "code",
   "execution_count": 26,
   "metadata": {},
   "outputs": [],
   "source": [
    "import copy"
   ]
  },
  {
   "cell_type": "markdown",
   "metadata": {},
   "source": [
    "deepcopy与copy只在对复合对象（object里面包含其他object，如list等）操作时候不同。其他都相同。\n",
    "\n",
    "The difference between shallow and deep copying is only relevant for compound objects (objects that contain other objects, like lists or class instances):\n",
    "\n",
    "A shallow copy constructs a new compound object and then (to the extent possible) inserts references into it to the objects found in the original.\n",
    "\n",
    "A deep copy constructs a new compound object and then, recursively, inserts copies into it of the objects found in the original."
   ]
  },
  {
   "cell_type": "markdown",
   "metadata": {},
   "source": [
    "# 相同情形"
   ]
  },
  {
   "cell_type": "code",
   "execution_count": 27,
   "metadata": {},
   "outputs": [
    {
     "name": "stdout",
     "output_type": "stream",
     "text": [
      "140276704143408\n",
      "140276704143408\n",
      "140276704143408\n"
     ]
    }
   ],
   "source": [
    "# Python中变量创建不是复制Object，而是把新对象链接到object。\n",
    "# copy与deepcopy都是复制引用，你可以看到ID均相同，都指向同一个object\n",
    "name = 'Dongsheng'\n",
    "name_copy = copy.copy(name)\n",
    "name_deepcopy = copy.deepcopy(name)\n",
    "print(id(name))\n",
    "print(id(name_copy))\n",
    "print(id(name_deepcopy))\n"
   ]
  },
  {
   "cell_type": "code",
   "execution_count": 28,
   "metadata": {},
   "outputs": [
    {
     "name": "stdout",
     "output_type": "stream",
     "text": [
      "140276706699952 DS\n",
      "140276704143408 Dongsheng\n",
      "140276704143408 Dongsheng\n"
     ]
    }
   ],
   "source": [
    "# name 变量变化是新创建object并更新name变量的引用，所以name_copy, name_deepcopy不变化\n",
    "name = \"DS\"\n",
    "print(id(name), name)\n",
    "print(id(name_copy), name_copy)\n",
    "print(id(name_deepcopy), name_deepcopy)"
   ]
  },
  {
   "cell_type": "code",
   "execution_count": 29,
   "metadata": {},
   "outputs": [
    {
     "name": "stdout",
     "output_type": "stream",
     "text": [
      "140276706902736 ['Python', 'Java']\n",
      "140276706902656 ['Python', 'Java']\n",
      "140276705427696 ['Python', 'Java']\n"
     ]
    }
   ],
   "source": [
    "languages = ['Python','Java']\n",
    "languages_copy = copy.copy(languages)\n",
    "languages_deepcopy = copy.deepcopy(languages)\n",
    "\n",
    "print(id(languages), languages)\n",
    "print(id(languages_copy), languages_copy)\n",
    "print(id(languages_deepcopy), languages_deepcopy)"
   ]
  },
  {
   "cell_type": "code",
   "execution_count": 30,
   "metadata": {},
   "outputs": [
    {
     "name": "stdout",
     "output_type": "stream",
     "text": [
      "140276706902736 ['Python', 'Java', 'C#']\n",
      "140276706902656 ['Python', 'Java']\n",
      "140276705427696 ['Python', 'Java']\n"
     ]
    }
   ],
   "source": [
    "languages.append('C#')\n",
    "print(id(languages), languages)\n",
    "print(id(languages_copy), languages_copy)\n",
    "print(id(languages_deepcopy), languages_deepcopy)"
   ]
  },
  {
   "cell_type": "markdown",
   "metadata": {},
   "source": [
    "# 不同情形"
   ]
  },
  {
   "cell_type": "code",
   "execution_count": 31,
   "metadata": {},
   "outputs": [],
   "source": [
    "languages = ['Python','Java', ['C','C++']]\n",
    "languages_copy = copy.copy(languages)\n",
    "languages_deepcopy = copy.deepcopy(languages)\n"
   ]
  },
  {
   "cell_type": "code",
   "execution_count": 32,
   "metadata": {},
   "outputs": [
    {
     "name": "stdout",
     "output_type": "stream",
     "text": [
      "140276705431296 ['Python', 'Java', ['C', 'C++']]\n",
      "140276704145968 ['Python', 'Java', ['C', 'C++']]\n",
      "140276706902736 ['Python', 'Java', ['C', 'C++']]\n"
     ]
    }
   ],
   "source": [
    "print(id(languages), languages)\n",
    "print(id(languages_copy), languages_copy)\n",
    "print(id(languages_deepcopy), languages_deepcopy)"
   ]
  },
  {
   "cell_type": "code",
   "execution_count": 33,
   "metadata": {},
   "outputs": [
    {
     "name": "stdout",
     "output_type": "stream",
     "text": [
      "140276705431296 ['Python', 'Java', ['C', 'C++'], 'C#']\n",
      "140276704145968 ['Python', 'Java', ['C', 'C++']]\n",
      "140276706902736 ['Python', 'Java', ['C', 'C++']]\n"
     ]
    }
   ],
   "source": [
    "# 当不改变嵌套里面的list时候\n",
    "languages.append('C#')\n",
    "print(id(languages), languages)\n",
    "print(id(languages_copy), languages_copy)\n",
    "print(id(languages_deepcopy), languages_deepcopy)"
   ]
  },
  {
   "cell_type": "code",
   "execution_count": 34,
   "metadata": {},
   "outputs": [
    {
     "name": "stdout",
     "output_type": "stream",
     "text": [
      "140276705431296 ['Python', 'Java', ['C', 'C++', 'C#'], 'C#']\n",
      "140276704145968 ['Python', 'Java', ['C', 'C++', 'C#']]\n",
      "140276706902736 ['Python', 'Java', ['C', 'C++']]\n"
     ]
    }
   ],
   "source": [
    "# 改变嵌套的list时候\n",
    "languages[2].append('C#')\n",
    "print(id(languages), languages)\n",
    "print(id(languages_copy), languages_copy)\n",
    "print(id(languages_deepcopy), languages_deepcopy)"
   ]
  },
  {
   "cell_type": "code",
   "execution_count": null,
   "metadata": {},
   "outputs": [],
   "source": []
  }
 ],
 "metadata": {
  "kernelspec": {
   "display_name": "Python 3",
   "language": "python",
   "name": "python3"
  },
  "language_info": {
   "codemirror_mode": {
    "name": "ipython",
    "version": 3
   },
   "file_extension": ".py",
   "mimetype": "text/x-python",
   "name": "python",
   "nbconvert_exporter": "python",
   "pygments_lexer": "ipython3",
   "version": "3.7.4"
  }
 },
 "nbformat": 4,
 "nbformat_minor": 2
}
