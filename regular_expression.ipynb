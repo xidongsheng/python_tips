{
 "cells": [
  {
   "cell_type": "code",
   "execution_count": 1,
   "metadata": {},
   "outputs": [
    {
     "name": "stdout",
     "output_type": "stream",
     "text": [
      "Mate 20 \n",
      "Dongsheng Xi\n",
      "Xi\n",
      "('Dongsheng', 'Xi')\n"
     ]
    }
   ],
   "source": [
    "import re\n",
    "\n",
    "name = 'Mate 20 Version 1'\n",
    "name = re.sub('Version [1-9]', '', name)\n",
    "print(name)\n",
    "\n",
    "m = re.match(r\"(\\w+) (\\w+)\", \"Dongsheng Xi\")\n",
    "print(m.group(0))\n",
    "print(m.group(2))\n",
    "print(m.groups())\n",
    "\n",
    "\n",
    "re.match('\\w', '')"
   ]
  },
  {
   "cell_type": "code",
   "execution_count": 1,
   "metadata": {},
   "outputs": [
    {
     "name": "stdout",
     "output_type": "stream",
     "text": [
      "('1', 'RAW')\n"
     ]
    }
   ],
   "source": [
    "import re\n",
    "\n",
    "str_test1 = \"\\GYG32235030006_Lus_Panther_FATP_AOI-Arm_Pos1_20231221132841_RAW.jpg\"\n",
    "aoi_reg = re.compile(r\"^.*AOI.*Pos([\\d])_.*(PASS|FAIL|Raw|RAW).jpg$\")\n",
    "\n",
    "\n",
    "aoi_match = re.match(aoi_reg, str_test1)\n",
    "\n",
    "if aoi_match:\n",
    "    print(aoi_match.groups())\n",
    "else:\n",
    "    print(\"no match\")"
   ]
  },
  {
   "cell_type": "code",
   "execution_count": null,
   "metadata": {},
   "outputs": [],
   "source": []
  }
 ],
 "metadata": {
  "kernelspec": {
   "display_name": "Python 3 (ipykernel)",
   "language": "python",
   "name": "python3"
  },
  "language_info": {
   "codemirror_mode": {
    "name": "ipython",
    "version": 3
   },
   "file_extension": ".py",
   "mimetype": "text/x-python",
   "name": "python",
   "nbconvert_exporter": "python",
   "pygments_lexer": "ipython3",
   "version": "3.9.16"
  },
  "toc": {
   "base_numbering": 1,
   "nav_menu": {},
   "number_sections": true,
   "sideBar": true,
   "skip_h1_title": false,
   "title_cell": "Table of Contents",
   "title_sidebar": "Contents",
   "toc_cell": false,
   "toc_position": {},
   "toc_section_display": true,
   "toc_window_display": false
  }
 },
 "nbformat": 4,
 "nbformat_minor": 4
}
