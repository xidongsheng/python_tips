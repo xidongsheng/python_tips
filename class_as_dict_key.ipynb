{
 "cells": [
  {
   "cell_type": "code",
   "execution_count": 23,
   "metadata": {},
   "outputs": [],
   "source": [
    "class Person():\n",
    "    def __init__(self, name, gender, age):\n",
    "        self.name = name\n",
    "        self.gender = gender\n",
    "        self.age = age\n",
    "    \n",
    "#     def __str__(self):\n",
    "#         return \"I am {}\".format(self.name)"
   ]
  },
  {
   "cell_type": "code",
   "execution_count": 30,
   "metadata": {},
   "outputs": [
    {
     "name": "stdout",
     "output_type": "stream",
     "text": [
      "8794561948805\n",
      "<__main__.Person object at 0x7ffa4bdac850>\n",
      "140712991180880 <class '__main__.Person'>\n",
      "8794561948805.0\n",
      "8794561948801\n",
      "<__main__.Person object at 0x7ffa4bdac810>\n",
      "140712991180816 <class '__main__.Person'>\n",
      "8794561948801.0\n",
      "8794561948809\n",
      "<__main__.Person object at 0x7ffa4bdac890>\n",
      "140712991180944 <class '__main__.Person'>\n",
      "8794561948809.0\n"
     ]
    }
   ],
   "source": [
    "jack = Person('jack', 'male', 50)\n",
    "jack2 = Person('jack', 'male', 50)\n",
    "john = Person('john', 'male', 26)\n",
    "\n",
    "person_dict = {}\n",
    "person_dict[jack] = \"jack's information\"\n",
    "person_dict[jack2] = \"jack2's information\"\n",
    "person_dict[john] = \"john's information\"\n",
    "\n",
    "for k in person_dict.keys():\n",
    "    print(k.__hash__())\n",
    "    print(k)\n",
    "    print(id(k),type(k))\n",
    "    print(hash(id(k))/16)\n",
    "\n"
   ]
  },
  {
   "cell_type": "code",
   "execution_count": null,
   "metadata": {},
   "outputs": [],
   "source": []
  }
 ],
 "metadata": {
  "kernelspec": {
   "display_name": "Python 3",
   "language": "python",
   "name": "python3"
  },
  "language_info": {
   "codemirror_mode": {
    "name": "ipython",
    "version": 3
   },
   "file_extension": ".py",
   "mimetype": "text/x-python",
   "name": "python",
   "nbconvert_exporter": "python",
   "pygments_lexer": "ipython3",
   "version": "3.7.4"
  }
 },
 "nbformat": 4,
 "nbformat_minor": 2
}
