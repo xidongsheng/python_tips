{
 "cells": [
  {
   "cell_type": "markdown",
   "metadata": {},
   "source": [
    "**how to represent float in computer**\n",
    "> this is to answer CSDN ask [question](https://ask.csdn.net/questions/752468) originally "
   ]
  },
  {
   "cell_type": "code",
   "execution_count": 1,
   "metadata": {},
   "outputs": [
    {
     "name": "stdout",
     "output_type": "stream",
     "text": [
      "请输入金额：22.45\n",
      "数字的二进制表示: 6319113227154227/281474976710656\n",
      "小数在计算机中实际大小为: 22.449999999999999289457264239899814128875732421875\n",
      "贰拾贰圆肆角伍分\n"
     ]
    }
   ],
   "source": [
    "# -*- coding: utf-8 -*-\n",
    "\"\"\"\n",
    " * Created by dxi on 3/18/2019\n",
    "\"\"\"\n",
    "from fractions import Fraction\n",
    "from decimal import Decimal\n",
    "\n",
    "\n",
    "def show_decimal(n):\n",
    "    \"\"\" show how decimal  be represented in computer \"\"\"\n",
    "\n",
    "    print(\"数字的二进制表示: {}\".format(Fraction.from_float(n)))\n",
    "    print(\"小数在计算机中实际大小为: {}\".format(Decimal.from_float(n)))\n",
    "\n",
    "\n",
    "def convert(n):\n",
    "    \"\"\"convert money to chinese words\"\"\"\n",
    "\n",
    "    units = ['', '万', '亿']\n",
    "    nums = ['零', '壹', '贰', '叁', '肆', '伍', '陆', '柒', '捌', '玖']\n",
    "    decimal_label = ['角', '分']\n",
    "    small_int_label = ['', '拾', '佰', '仟']\n",
    "\n",
    "    # 明白原理，可以删掉\n",
    "    show_decimal(n)\n",
    "\n",
    "    # 由于小数部分是一个近似值，这样分隔之后取前两位后导致错误。\n",
    "    # int_part, decimal_part = str(int(n)), str(n - int(n))[2:]  # 分离整数和小数部分，\n",
    "    # print(decimal_part)\n",
    "\n",
    "    # 正确做法\n",
    "    n = round(n, 2)\n",
    "    int_part, decimal_part = str(n).split('.')\n",
    "\n",
    "    res = []\n",
    "    if decimal_part:\n",
    "        res.append(''.join([nums[int(x)] + y for x, y in zip(decimal_part, decimal_label) if x != '0']))\n",
    "\n",
    "    if int_part != '0':\n",
    "        res.append('圆')\n",
    "        while int_part:\n",
    "            small_int_part, int_part = int_part[-4:], int_part[:-4]\n",
    "            tmp = ''.join([nums[int(x)] + (y if x != '0' else '') for x, y in list(zip(small_int_part[::-1], small_int_label))[::-1]])\n",
    "            tmp = tmp.rstrip('零').replace('零零零', '零').replace('零零', '零')\n",
    "            unit = units.pop(0)\n",
    "            if tmp:\n",
    "                tmp += unit\n",
    "                res.append(tmp)\n",
    "    return ''.join(res[::-1])\n",
    "\n",
    "n = float(input('请输入金额：',))\n",
    "print(convert(n))"
   ]
  },
  {
   "cell_type": "code",
   "execution_count": null,
   "metadata": {},
   "outputs": [],
   "source": []
  }
 ],
 "metadata": {
  "kernelspec": {
   "display_name": "Python 3",
   "language": "python",
   "name": "python3"
  },
  "language_info": {
   "codemirror_mode": {
    "name": "ipython",
    "version": 3
   },
   "file_extension": ".py",
   "mimetype": "text/x-python",
   "name": "python",
   "nbconvert_exporter": "python",
   "pygments_lexer": "ipython3",
   "version": "3.6.8"
  },
  "toc": {
   "base_numbering": 1,
   "nav_menu": {},
   "number_sections": true,
   "sideBar": true,
   "skip_h1_title": false,
   "title_cell": "Table of Contents",
   "title_sidebar": "Contents",
   "toc_cell": false,
   "toc_position": {},
   "toc_section_display": true,
   "toc_window_display": false
  }
 },
 "nbformat": 4,
 "nbformat_minor": 2
}
