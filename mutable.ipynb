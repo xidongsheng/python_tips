{
 "cells": [
  {
   "cell_type": "markdown",
   "metadata": {},
   "source": [
    "Python represents all its data as objects. \n",
    "* Some of these objects like **lists** and **dictionaries** are mutable,meaning you can change their content without changing their identity.\n",
    "* Other objects like **integers**, **floats**, **strings** and **tuples** are objects that can not be changed."
   ]
  },
  {
   "cell_type": "code",
   "execution_count": 1,
   "metadata": {},
   "outputs": [
    {
     "name": "stdout",
     "output_type": "stream",
     "text": [
      "1 1\n",
      "4298806704 4298806704\n",
      "2 1\n",
      "4298806736 4298806704\n"
     ]
    }
   ],
   "source": [
    "a = b = 1\n",
    "print(a, b)\n",
    "print(id(a), (id(b)))\n",
    "\n",
    "a += 1\n",
    "print(a, b)\n",
    "print(id(a), (id(b)))"
   ]
  },
  {
   "cell_type": "markdown",
   "metadata": {},
   "source": [
    "**the content of a have changed, and the ID(memory address when cpython) also have changed**"
   ]
  },
  {
   "cell_type": "markdown",
   "metadata": {},
   "source": [
    "****"
   ]
  },
  {
   "cell_type": "code",
   "execution_count": 2,
   "metadata": {},
   "outputs": [
    {
     "name": "stdout",
     "output_type": "stream",
     "text": [
      "{'name': 'dongsheng'} {'name': 'dongsheng'} {'name': 'dongsheng'}\n",
      "4337147480 4337147480 4337147480\n",
      "{'name': 'dongsheng', 'age': 30} {'name': 'dongsheng', 'age': 30} {'name': 'dongsheng', 'age': 30}\n",
      "4337147480 4337147480 4337147480\n"
     ]
    }
   ],
   "source": [
    "dict_a = dict_b = dict_c = {'name': 'dongsheng'}\n",
    "\n",
    "print(dict_a, dict_b, dict_c)\n",
    "print(id(dict_a), (id(dict_b)), id(dict_c))\n",
    "\n",
    "dict_a['age'] = 30\n",
    "print(dict_a, dict_b, dict_c)\n",
    "print(id(dict_a), (id(dict_b)), id(dict_c))"
   ]
  },
  {
   "cell_type": "markdown",
   "metadata": {},
   "source": [
    "**dict is mutable, content changed, but id keep same**"
   ]
  }
 ],
 "metadata": {
  "kernelspec": {
   "display_name": "Python 3",
   "language": "python",
   "name": "python3"
  },
  "language_info": {
   "codemirror_mode": {
    "name": "ipython",
    "version": 3
   },
   "file_extension": ".py",
   "mimetype": "text/x-python",
   "name": "python",
   "nbconvert_exporter": "python",
   "pygments_lexer": "ipython3",
   "version": "3.6.8"
  },
  "toc": {
   "base_numbering": 1.0,
   "nav_menu": {},
   "number_sections": true,
   "sideBar": true,
   "skip_h1_title": false,
   "title_cell": "Table of Contents",
   "title_sidebar": "Contents",
   "toc_cell": false,
   "toc_position": {},
   "toc_section_display": true,
   "toc_window_display": false
  }
 },
 "nbformat": 4,
 "nbformat_minor": 2
}
