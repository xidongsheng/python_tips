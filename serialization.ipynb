{
 "cells": [
  {
   "cell_type": "code",
   "execution_count": 1,
   "metadata": {},
   "outputs": [],
   "source": [
    "import pickle\n",
    "import json\n",
    "from sys import getsizeof"
   ]
  },
  {
   "cell_type": "markdown",
   "metadata": {},
   "source": [
    "## JSON serialize and Binary serialize"
   ]
  },
  {
   "cell_type": "code",
   "execution_count": 2,
   "metadata": {
    "scrolled": true
   },
   "outputs": [
    {
     "name": "stdout",
     "output_type": "stream",
     "text": [
      "my type is <class 'dict'>, size is 240 bytes\n"
     ]
    },
    {
     "data": {
      "text/plain": [
       "{'Last Name': 'XI', 'First Name': 'Dongsheng'}"
      ]
     },
     "execution_count": 2,
     "metadata": {},
     "output_type": "execute_result"
    }
   ],
   "source": [
    "my = {'Last Name': 'XI', 'First Name': 'Dongsheng'}\n",
    "\n",
    "# get size in bytes\n",
    "print('my type is {}, size is {} bytes'.format(type(my), getsizeof(my)))\n",
    "my\n"
   ]
  },
  {
   "cell_type": "code",
   "execution_count": 3,
   "metadata": {},
   "outputs": [
    {
     "name": "stdout",
     "output_type": "stream",
     "text": [
      "after serialization, my_serial type is <class 'bytes'>, size is 99 bytes\n"
     ]
    },
    {
     "data": {
      "text/plain": [
       "b'\\x80\\x03}q\\x00(X\\t\\x00\\x00\\x00Last Nameq\\x01X\\x02\\x00\\x00\\x00XIq\\x02X\\n\\x00\\x00\\x00First Nameq\\x03X\\t\\x00\\x00\\x00Dongshengq\\x04u.'"
      ]
     },
     "execution_count": 3,
     "metadata": {},
     "output_type": "execute_result"
    }
   ],
   "source": [
    "my_serial = pickle.dumps(my)\n",
    "\n",
    "print('after serialization, my_serial type is {}, size is {} bytes'.format(type(my_serial), getsizeof(my_serial)))\n",
    "my_serial"
   ]
  },
  {
   "cell_type": "code",
   "execution_count": 12,
   "metadata": {},
   "outputs": [
    {
     "name": "stdout",
     "output_type": "stream",
     "text": [
      "after json serialize, my_json type is <class 'str'>, size is 95 bytes\n"
     ]
    },
    {
     "data": {
      "text/plain": [
       "'{\"Last Name\": \"XI\", \"First Name\": \"Dongsheng\"}'"
      ]
     },
     "execution_count": 12,
     "metadata": {},
     "output_type": "execute_result"
    }
   ],
   "source": [
    "my_json = json.dumps(my)\n",
    "\n",
    "print('after json serialize, my_json type is {}, size is {} bytes'.format(type(my_json), getsizeof(my_json)))\n",
    "my_json"
   ]
  },
  {
   "cell_type": "markdown",
   "metadata": {},
   "source": [
    "          \n",
    "|       Type      | Size(Bytes) |         Content                                                                |                |\n",
    "|:---------------:|-------------|:-------------------------------------------------------------------------------------------------------------------------------------:|----------------|\n",
    "| <class 'dict'>  | 240         | {'Last Name': 'XI', 'First Name': 'Dongsheng'}                                                                                        |                |\n",
    "| <class 'bytes'> | 99          | b'\\x80\\x03}q\\x00(X\\t\\x00\\x00\\x00Last Nameq\\x01X\\x02\\x00\\x00\\x00XIq\\x02X\\n\\x00\\x00\\ x00First Nameq\\x03X\\t\\x00\\x00\\x00Dongshengq\\x04u.' | pickle.dumps() |\n",
    "| <class 'str'>   | 95          | {\"Last Name\": \"XI\", \"First Name\": \"Dongsheng\"}                                                                                        | json.dumps()   |"
   ]
  },
  {
   "cell_type": "markdown",
   "metadata": {},
   "source": [
    "https://code.tutsplus.com/tutorials/serialization-and-deserialization-of-python-objects-part-1--cms-26183"
   ]
  },
  {
   "cell_type": "code",
   "execution_count": 11,
   "metadata": {},
   "outputs": [
    {
     "data": {
      "text/plain": [
       "240"
      ]
     },
     "execution_count": 11,
     "metadata": {},
     "output_type": "execute_result"
    }
   ],
   "source": [
    "my_serial_deserial = pickle.loads(my_serial)\n",
    "getsizeof(my_serial_deserial)"
   ]
  },
  {
   "cell_type": "code",
   "execution_count": 6,
   "metadata": {},
   "outputs": [
    {
     "data": {
      "text/plain": [
       "{'Last Name': 'XI', 'First Name': 'Dongsheng'}"
      ]
     },
     "execution_count": 6,
     "metadata": {},
     "output_type": "execute_result"
    }
   ],
   "source": [
    "my_serial_deserial"
   ]
  },
  {
   "cell_type": "markdown",
   "metadata": {},
   "source": [
    "flask marshal return a dict"
   ]
  },
  {
   "cell_type": "code",
   "execution_count": 7,
   "metadata": {},
   "outputs": [],
   "source": [
    "from flask_restplus import marshal_with, fields"
   ]
  },
  {
   "cell_type": "code",
   "execution_count": 8,
   "metadata": {},
   "outputs": [],
   "source": [
    "lastname = {'last name': fields.String}\n",
    "\n",
    "@marshal_with(lastname)\n",
    "def myname():\n",
    "    return {'last name':'Dongsheng', 'first name':'XI'}"
   ]
  },
  {
   "cell_type": "code",
   "execution_count": 9,
   "metadata": {},
   "outputs": [
    {
     "data": {
      "text/plain": [
       "{'last name': 'Dongsheng'}"
      ]
     },
     "execution_count": 9,
     "metadata": {},
     "output_type": "execute_result"
    }
   ],
   "source": [
    "myname()"
   ]
  },
  {
   "cell_type": "code",
   "execution_count": 10,
   "metadata": {},
   "outputs": [
    {
     "data": {
      "text/plain": [
       "(dict, 240)"
      ]
     },
     "execution_count": 10,
     "metadata": {},
     "output_type": "execute_result"
    }
   ],
   "source": [
    "type(myname()), getsizeof(myname())"
   ]
  }
 ],
 "metadata": {
  "kernelspec": {
   "display_name": "Python 3",
   "language": "python",
   "name": "python3"
  },
  "language_info": {
   "codemirror_mode": {
    "name": "ipython",
    "version": 3
   },
   "file_extension": ".py",
   "mimetype": "text/x-python",
   "name": "python",
   "nbconvert_exporter": "python",
   "pygments_lexer": "ipython3",
   "version": "3.7.0"
  }
 },
 "nbformat": 4,
 "nbformat_minor": 2
}
