{
 "cells": [
  {
   "cell_type": "markdown",
   "metadata": {},
   "source": [
    "## dict related knowledge"
   ]
  },
  {
   "cell_type": "markdown",
   "metadata": {},
   "source": [
    "### dict clear method will clear the content, but dict is not None"
   ]
  },
  {
   "cell_type": "code",
   "execution_count": 7,
   "metadata": {},
   "outputs": [
    {
     "data": {
      "text/plain": [
       "{'my': 'dongsheng'}"
      ]
     },
     "execution_count": 7,
     "metadata": {},
     "output_type": "execute_result"
    }
   ],
   "source": [
    "a = {'my': 'dongsheng'}\n",
    "a"
   ]
  },
  {
   "cell_type": "code",
   "execution_count": 8,
   "metadata": {},
   "outputs": [
    {
     "data": {
      "text/plain": [
       "{}"
      ]
     },
     "execution_count": 8,
     "metadata": {},
     "output_type": "execute_result"
    }
   ],
   "source": [
    "a.clear()\n",
    "a"
   ]
  },
  {
   "cell_type": "code",
   "execution_count": 9,
   "metadata": {},
   "outputs": [
    {
     "data": {
      "text/plain": [
       "False"
      ]
     },
     "execution_count": 9,
     "metadata": {},
     "output_type": "execute_result"
    }
   ],
   "source": [
    "a is None"
   ]
  },
  {
   "cell_type": "markdown",
   "metadata": {},
   "source": [
    "### dict is mutable"
   ]
  },
  {
   "cell_type": "code",
   "execution_count": 10,
   "metadata": {},
   "outputs": [
    {
     "data": {
      "text/plain": [
       "{'apple': {'iphone 8': 'iph8', 'iphone 7': 'iph7'},\n",
       " 'huawei': {'mate20': 'MATE20', 'mate21': 'P21'}}"
      ]
     },
     "execution_count": 10,
     "metadata": {},
     "output_type": "execute_result"
    }
   ],
   "source": [
    "# dict is mutalbe, it's reference not value copy\n",
    "modelalias = {\n",
    "    'apple': {\n",
    "        'iphone 8': 'iph8',\n",
    "        'iphone 7': 'iph7'\n",
    "    },\n",
    "    'huawei': {\n",
    "        'mate20': 'P20',\n",
    "        'mate21': 'P21'\n",
    "    }\n",
    "}\n",
    "\n",
    "\n",
    "for brand, mdict in modelalias.items():\n",
    "    for m, aliases in mdict.items():\n",
    "        if m == 'mate20':\n",
    "            mdict[m] = 'MATE20'\n",
    "\n",
    "modelalias"
   ]
  },
  {
   "cell_type": "code",
   "execution_count": 11,
   "metadata": {},
   "outputs": [
    {
     "data": {
      "text/plain": [
       "{'apple': {'iphone 8': 'iph8', 'iphone 7': 'iph7', 'iphone 9': 'iph9'},\n",
       " 'huawei': {'mate20': 'MATE20', 'mate21': 'P21'}}"
      ]
     },
     "execution_count": 11,
     "metadata": {},
     "output_type": "execute_result"
    }
   ],
   "source": [
    "apple = modelalias['apple']\n",
    "apple['iphone 9'] = 'iph9'\n",
    "\n",
    "modelalias"
   ]
  },
  {
   "cell_type": "code",
   "execution_count": 13,
   "metadata": {},
   "outputs": [
    {
     "data": {
      "text/plain": [
       "{'apple': {'iphone 8': 'iph8', 'iphone 7': 'iph7', 'iphone 9': 'iph9'},\n",
       " 'huawei': {'mate20': 'MATE20', 'mate21': 'P21'},\n",
       " 'oppo': {'r11': 'I love R11'}}"
      ]
     },
     "execution_count": 13,
     "metadata": {},
     "output_type": "execute_result"
    }
   ],
   "source": [
    "# the setdefault() returns:\n",
    "#     value of the key if it is in the dictionary\n",
    "#     None if key is not in the dictionary and default_value is not specified\n",
    "#     default_value if key is not in the dictionary and default_value is specified\n",
    "\n",
    "oppo = modelalias.setdefault('oppo', {})\n",
    "oppo['r11'] = 'I love R11'\n",
    "\n",
    "modelalias"
   ]
  },
  {
   "cell_type": "code",
   "execution_count": null,
   "metadata": {},
   "outputs": [],
   "source": []
  }
 ],
 "metadata": {
  "kernelspec": {
   "display_name": "Python 3",
   "language": "python",
   "name": "python3"
  },
  "language_info": {
   "codemirror_mode": {
    "name": "ipython",
    "version": 3
   },
   "file_extension": ".py",
   "mimetype": "text/x-python",
   "name": "python",
   "nbconvert_exporter": "python",
   "pygments_lexer": "ipython3",
   "version": "3.6.6"
  }
 },
 "nbformat": 4,
 "nbformat_minor": 2
}
