{
 "cells": [
  {
   "cell_type": "markdown",
   "metadata": {},
   "source": [
    "## dict related knowledge"
   ]
  },
  {
   "cell_type": "markdown",
   "metadata": {},
   "source": [
    "### dict clear method will clear the content, but dict is not None"
   ]
  },
  {
   "cell_type": "code",
   "execution_count": 1,
   "metadata": {},
   "outputs": [
    {
     "data": {
      "text/plain": [
       "{'my': 'dongsheng'}"
      ]
     },
     "execution_count": 1,
     "metadata": {},
     "output_type": "execute_result"
    }
   ],
   "source": [
    "a = {'my': 'dongsheng'}\n",
    "a"
   ]
  },
  {
   "cell_type": "code",
   "execution_count": 2,
   "metadata": {},
   "outputs": [
    {
     "data": {
      "text/plain": [
       "{}"
      ]
     },
     "execution_count": 2,
     "metadata": {},
     "output_type": "execute_result"
    }
   ],
   "source": [
    "a.clear()\n",
    "a"
   ]
  },
  {
   "cell_type": "code",
   "execution_count": 3,
   "metadata": {},
   "outputs": [
    {
     "data": {
      "text/plain": [
       "False"
      ]
     },
     "execution_count": 3,
     "metadata": {},
     "output_type": "execute_result"
    }
   ],
   "source": [
    "a is None"
   ]
  },
  {
   "cell_type": "markdown",
   "metadata": {},
   "source": [
    "### dict is mutable"
   ]
  },
  {
   "cell_type": "code",
   "execution_count": 4,
   "metadata": {},
   "outputs": [
    {
     "data": {
      "text/plain": [
       "{'apple': {'iphone 8': 'iph8', 'iphone 7': 'iph7'},\n",
       " 'huawei': {'mate20': 'MATE20', 'mate21': 'P21'}}"
      ]
     },
     "execution_count": 4,
     "metadata": {},
     "output_type": "execute_result"
    }
   ],
   "source": [
    "# dict is mutable, it's reference not value copy\n",
    "modelalias = {\n",
    "    'apple': {\n",
    "        'iphone 8': 'iph8',\n",
    "        'iphone 7': 'iph7'\n",
    "    },\n",
    "    'huawei': {\n",
    "        'mate20': 'P20',\n",
    "        'mate21': 'P21'\n",
    "    }\n",
    "}\n",
    "\n",
    "\n",
    "for brand, mdict in modelalias.items():\n",
    "    for m, aliases in mdict.items():\n",
    "        if m == 'mate20':\n",
    "            mdict[m] = 'MATE20'\n",
    "\n",
    "modelalias"
   ]
  },
  {
   "cell_type": "code",
   "execution_count": 5,
   "metadata": {},
   "outputs": [
    {
     "data": {
      "text/plain": [
       "{'apple': {'iphone 8': 'iph8', 'iphone 7': 'iph7', 'iphone 9': 'iph9'},\n",
       " 'huawei': {'mate20': 'MATE20', 'mate21': 'P21'}}"
      ]
     },
     "execution_count": 5,
     "metadata": {},
     "output_type": "execute_result"
    }
   ],
   "source": [
    "apple = modelalias['apple']\n",
    "apple['iphone 9'] = 'iph9'\n",
    "\n",
    "modelalias"
   ]
  },
  {
   "cell_type": "code",
   "execution_count": 6,
   "metadata": {},
   "outputs": [
    {
     "data": {
      "text/plain": [
       "{'apple': {'iphone 8': 'iph8', 'iphone 7': 'iph7', 'iphone 9': 'iph9'},\n",
       " 'huawei': {'mate20': 'MATE20', 'mate21': 'P21'},\n",
       " 'oppo': {'r11': 'I love R11'}}"
      ]
     },
     "execution_count": 6,
     "metadata": {},
     "output_type": "execute_result"
    }
   ],
   "source": [
    "# the setdefault() returns:\n",
    "#     value of the key if it is in the dictionary\n",
    "#     None if key is not in the dictionary and default_value is not specified\n",
    "#     default_value if key is not in the dictionary and default_value is specified\n",
    "\n",
    "oppo = modelalias.setdefault('oppo', {})\n",
    "oppo['r11'] = 'I love R11'\n",
    "\n",
    "modelalias"
   ]
  },
  {
   "cell_type": "markdown",
   "metadata": {},
   "source": [
    "### dict copy"
   ]
  },
  {
   "cell_type": "code",
   "execution_count": 7,
   "metadata": {},
   "outputs": [
    {
     "name": "stdout",
     "output_type": "stream",
     "text": [
      "{'last_name': 'Jason', 'first_name': 'Xi'} 140317998201664\n",
      "{'last_name': 'Jason', 'first_name': 'Xi'} 140317998201664\n",
      "{} 140317998201824\n",
      "{'last_name': 'Jason', 'first_name': 'Xi'} 140317998201664\n"
     ]
    }
   ],
   "source": [
    "# dict is reference when use =\n",
    "my_dict = {'last_name':'Jason', 'first_name': 'Xi'}\n",
    "print(my_dict, id(my_dict))\n",
    "\n",
    "sec_dict = my_dict\n",
    "print(sec_dict, id(my_dict))\n",
    "\n",
    "sec_dict = {}\n",
    "print(sec_dict, id(sec_dict))\n",
    "print(my_dict, id(my_dict))\n"
   ]
  },
  {
   "cell_type": "code",
   "execution_count": 8,
   "metadata": {},
   "outputs": [
    {
     "name": "stdout",
     "output_type": "stream",
     "text": [
      "{'last_name': 'Jason', 'first_name': 'Xi'} 140317998103360\n"
     ]
    }
   ],
   "source": [
    "# use copy method\n",
    "dict_copy = my_dict.copy()\n",
    "print(dict_copy, id(dict_copy))"
   ]
  },
  {
   "cell_type": "markdown",
   "metadata": {},
   "source": [
    "## default dict"
   ]
  },
  {
   "cell_type": "code",
   "execution_count": 2,
   "metadata": {},
   "outputs": [
    {
     "name": "stdout",
     "output_type": "stream",
     "text": [
      "['Apple']\n",
      "[]\n"
     ]
    }
   ],
   "source": [
    "from collections import defaultdict\n",
    "\n",
    "df_dict = defaultdict(list)\n",
    "\n",
    "df_dict['fruit'].append('Apple')\n",
    "\n",
    "print(df_dict['fruit'])\n",
    "print(df_dict['tool'])"
   ]
  },
  {
   "cell_type": "code",
   "execution_count": null,
   "metadata": {},
   "outputs": [],
   "source": []
  }
 ],
 "metadata": {
  "kernelspec": {
   "display_name": "Python 3 (ipykernel)",
   "language": "python",
   "name": "python3"
  },
  "language_info": {
   "codemirror_mode": {
    "name": "ipython",
    "version": 3
   },
   "file_extension": ".py",
   "mimetype": "text/x-python",
   "name": "python",
   "nbconvert_exporter": "python",
   "pygments_lexer": "ipython3",
   "version": "3.9.16"
  },
  "toc": {
   "base_numbering": 1,
   "nav_menu": {},
   "number_sections": true,
   "sideBar": true,
   "skip_h1_title": false,
   "title_cell": "Table of Contents",
   "title_sidebar": "Contents",
   "toc_cell": false,
   "toc_position": {},
   "toc_section_display": true,
   "toc_window_display": false
  }
 },
 "nbformat": 4,
 "nbformat_minor": 4
}
